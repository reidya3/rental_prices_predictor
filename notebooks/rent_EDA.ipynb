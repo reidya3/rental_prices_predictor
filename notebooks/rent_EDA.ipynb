{
 "cells": [
  {
   "cell_type": "markdown",
   "metadata": {},
   "source": [
    "# Exploratory Data Analysis\n",
    "\n",
    "The **goal** of EDA is profiling (assessing data quality) and discovery (gaining new insight from the data).\n",
    "\n",
    "\n",
    "\n",
    "| Column name | description |\n",
    "|---:|:---|\n",
    "| Listed property price(€)  | The rental price of the property(per month or per week). |\n",
    "| Address  | The address of the property. |\n",
    "| Bedroom(s) | The number of bedrooms. |\n",
    "| Bathroom(s)  | The number of bathrooms. |\n",
    "| Property desc  | The description of the property. |\n",
    "| Week YN  | 1 inidctaes the listed property price is per week, 0 not. |\n",
    "| Month YN  | 1 inidctaes the listed property price is per week, 0 not. |\n",
    "| Furnished status  | 1 indicates a property is furnished, 0 not.|\n",
    "| Longitude  | The longitude of the property |\n",
    "| latitude | The latitude of the property |\n",
    "| dist_bridge  | The distance from the property to 0'Connell bridge |\n",
    "| dist_ifsc  | The distance from the property to the IFSC |\n",
    "| dist_silicon_docks | The distance from the property to the area termed 'silicon docks' |\n",
    "| coord | The coordinates of the property (latitude,longitude |\n",
    "| price level  | The average price level of nearby restaurants to the  property(0 to 4) |\n",
    "| rating  | The  average review rating  of nearby restaurants to the  property(0 to 4) |\n",
    "|Post code | The dublin postal code of the property. | \n",
    "|Type | The type of property either house or apartment. |\n",
    "| Monthly property price(€) | The rental price of the property per month. |"
   ]
  },
  {
   "cell_type": "markdown",
   "metadata": {},
   "source": [
    "### Importing the needed libaries.."
   ]
  },
  {
   "cell_type": "code",
   "execution_count": 1,
   "metadata": {},
   "outputs": [],
   "source": [
    "import pandas as pd\n",
    "import gmaps \n",
    "import os\n",
    "import matplotlib.pyplot as plot\n",
    "import seaborn as sns\n",
    "import numpy as np\n",
    "import wordcloud\n",
    "from wordcloud import WordCloud,STOPWORDS\n",
    "from PIL import Image\n",
    "import scipy.stats as stats"
   ]
  },
  {
   "cell_type": "code",
   "execution_count": 76,
   "metadata": {},
   "outputs": [],
   "source": [
    "rent_df = pd.read_hdf(\"../data/collected_rented_data.h5\")\n",
    "rent_df = rent_df[rent_df.rating != \"\" ]\n",
    "#google places mixed up sometimes between a dublin in america and ireland .\n",
    "rent_df = rent_df[rent_df[\"dist_ifsc\"] < 100]"
   ]
  },
  {
   "cell_type": "code",
   "execution_count": 77,
   "metadata": {},
   "outputs": [],
   "source": [
    "rent_df = rent_df[rent_df[\"Bedroom(s)\"] > 0]"
   ]
  },
  {
   "cell_type": "code",
   "execution_count": 78,
   "metadata": {},
   "outputs": [],
   "source": [
    "rent_df.iloc[:,5:13] =rent_df.iloc[:,5:13].apply(pd.to_numeric)\n"
   ]
  },
  {
   "cell_type": "markdown",
   "metadata": {},
   "source": [
    "I choose to fill in the missing values of rating and price level with  the median as the percentage of null values was low. (0.4 and 4 percent respectively). Median was chosen as to prevent the influence of outliers."
   ]
  },
  {
   "cell_type": "code",
   "execution_count": 79,
   "metadata": {},
   "outputs": [],
   "source": [
    "rating =pd.to_numeric(rent_df['rating'],errors='coerce')"
   ]
  },
  {
   "cell_type": "code",
   "execution_count": 80,
   "metadata": {},
   "outputs": [],
   "source": [
    "price_level =pd.to_numeric(rent_df['price level'],errors='coerce')"
   ]
  },
  {
   "cell_type": "code",
   "execution_count": 81,
   "metadata": {},
   "outputs": [],
   "source": [
    "rent_df['price level'].fillna(value = price_level.median(),inplace=True)\n",
    "rent_df['rating'].fillna(value = rating.median(),inplace=True)"
   ]
  },
  {
   "cell_type": "code",
   "execution_count": 82,
   "metadata": {},
   "outputs": [],
   "source": [
    "rent_df.iloc[:,-2:] =rent_df.iloc[:,-2:].apply(pd.to_numeric)\n"
   ]
  },
  {
   "cell_type": "markdown",
   "metadata": {},
   "source": [
    "In the next few cells, I added extra features to my dataframe such as Monthly rent price(€)(The rental price of a property per month), type (The type of property either house or apartment) ,and postcode (The Dublin postal code of the property.)  I also decided to remove \"Listed property price\" as this was no longer needed and rearranged the columns to clarify my own understanding."
   ]
  },
  {
   "cell_type": "code",
   "execution_count": 84,
   "metadata": {},
   "outputs": [],
   "source": [
    "#adding monthly rent price \n",
    "        \n",
    "rent_df[\"Monthly rent price(€)\"] = rent_df.apply(lambda x: ((x['Listed property price(€)'] * 52) / 12) if x['Week YN'] == 1 else x['Listed property price(€)'],  axis = 1)\n",
    "rent_df[\"Monthly rent price(€)\"]  = rent_df[\"Monthly rent price(€)\"].apply(lambda x: round(x,2 ))"
   ]
  },
  {
   "cell_type": "code",
   "execution_count": 85,
   "metadata": {},
   "outputs": [],
   "source": [
    "pd.set_option('max_colwidth',80)\n",
    "rent_df = rent_df.replace(r'\\\\n','', regex=True)\n",
    "rent_df.reset_index(inplace=True,drop=True)\n",
    "rent_df[\"Type\"] = None\n",
    "\n",
    "for i,value in rent_df[\"Property desc\"].items():\n",
    "        if \"house\" in value.lower() or \"home\" in value.lower() or \"property\" in value.lower():\n",
    "            rent_df.iloc[i, -1] = \"house\"\n",
    "        if \"apartment\" in value.lower() or \"flat\" in value.lower() or 'studio' in value.lower() or 'apt' in value.lower() or 'penthouse' in value.lower():\n",
    "            rent_df.iloc[i, -1] = \"apartment\"\n",
    "                  \n",
    "rent_df.dropna(subset=[\"Type\"],inplace=True)\n",
    "            \n"
   ]
  },
  {
   "cell_type": "code",
   "execution_count": 86,
   "metadata": {},
   "outputs": [],
   "source": [
    "rent_df.reset_index(inplace=True,drop=True)\n",
    "rent_df[\"Post code\"] = None\n",
    "    \n",
    "    \n",
    "for index,value in rent_df[\"Address\"].items():\n",
    "    i = 0\n",
    "    list_address = value.split(\" \")\n",
    "    number = None\n",
    "    while i < len(list_address):\n",
    "        if list_address[i].lower() == \"dublin\" and i != len(list_address) - 1:\n",
    "            if list_address[i + 1].strip().isalnum():\n",
    "                number = list_address[i + 1]\n",
    "                number = number.replace(\",\", \"\").replace(\"Road\",\"\")\n",
    "        i = i + 1\n",
    "\n",
    "    rent_df.iloc[index,-1] = number"
   ]
  },
  {
   "cell_type": "code",
   "execution_count": 87,
   "metadata": {},
   "outputs": [],
   "source": [
    "rent_df.dropna(subset=[\"Post code\"],inplace=True)\n",
    "rent_df.reset_index(inplace=True,drop=True)\n",
    "#dropping listed price\n",
    "rent_df.drop('Listed property price(€)', axis=1,inplace=True)"
   ]
  },
  {
   "cell_type": "code",
   "execution_count": 88,
   "metadata": {},
   "outputs": [
    {
     "data": {
      "text/html": [
       "<div>\n",
       "<style scoped>\n",
       "    .dataframe tbody tr th:only-of-type {\n",
       "        vertical-align: middle;\n",
       "    }\n",
       "\n",
       "    .dataframe tbody tr th {\n",
       "        vertical-align: top;\n",
       "    }\n",
       "\n",
       "    .dataframe thead th {\n",
       "        text-align: right;\n",
       "    }\n",
       "</style>\n",
       "<table border=\"1\" class=\"dataframe\">\n",
       "  <thead>\n",
       "    <tr style=\"text-align: right;\">\n",
       "      <th></th>\n",
       "      <th>Monthly rent price(€)</th>\n",
       "      <th>Type</th>\n",
       "      <th>Address</th>\n",
       "      <th>Post code</th>\n",
       "      <th>Bedroom(s)</th>\n",
       "      <th>Bathroom(s)</th>\n",
       "      <th>Property desc</th>\n",
       "      <th>Week YN</th>\n",
       "      <th>Month YN</th>\n",
       "      <th>Furnished Status</th>\n",
       "      <th>Longitude</th>\n",
       "      <th>latitude</th>\n",
       "      <th>dist_bridge</th>\n",
       "      <th>dist_ifsc</th>\n",
       "      <th>dist_silicon_docks</th>\n",
       "      <th>coord</th>\n",
       "      <th>price level</th>\n",
       "      <th>rating</th>\n",
       "    </tr>\n",
       "  </thead>\n",
       "  <tbody>\n",
       "    <tr>\n",
       "      <th>0</th>\n",
       "      <td>1600.0</td>\n",
       "      <td>apartment</td>\n",
       "      <td>Earlsfield Court, FRANCIS STREET, Dublin 8</td>\n",
       "      <td>8</td>\n",
       "      <td>2</td>\n",
       "      <td>1</td>\n",
       "      <td>Available 1st June - Two double bedroom apartment in very well maintained an...</td>\n",
       "      <td>0</td>\n",
       "      <td>1</td>\n",
       "      <td>1</td>\n",
       "      <td>-6.274056</td>\n",
       "      <td>53.339771</td>\n",
       "      <td>1.290848</td>\n",
       "      <td>2.188464</td>\n",
       "      <td>2.462037</td>\n",
       "      <td>53.3397711,-6.2740561</td>\n",
       "      <td>2.500000</td>\n",
       "      <td>4.039655</td>\n",
       "    </tr>\n",
       "    <tr>\n",
       "      <th>1</th>\n",
       "      <td>1500.0</td>\n",
       "      <td>apartment</td>\n",
       "      <td>Clearwater Court North Royal Canal Park, Royal Canal Park, Dublin 15</td>\n",
       "      <td>15</td>\n",
       "      <td>2</td>\n",
       "      <td>1</td>\n",
       "      <td>Available Now - Super spacious, interior designed and presented to a high st...</td>\n",
       "      <td>0</td>\n",
       "      <td>1</td>\n",
       "      <td>1</td>\n",
       "      <td>-6.317532</td>\n",
       "      <td>53.377553</td>\n",
       "      <td>5.141023</td>\n",
       "      <td>5.725532</td>\n",
       "      <td>6.532332</td>\n",
       "      <td>53.3775534,-6.3175322</td>\n",
       "      <td>1.750000</td>\n",
       "      <td>4.356818</td>\n",
       "    </tr>\n",
       "    <tr>\n",
       "      <th>2</th>\n",
       "      <td>2200.0</td>\n",
       "      <td>apartment</td>\n",
       "      <td>Gallery Quay, Hanover Quay, Dublin 2</td>\n",
       "      <td>2</td>\n",
       "      <td>2</td>\n",
       "      <td>2</td>\n",
       "      <td>Available Now - Beautiful dual aspect top floor apartment flooded with light...</td>\n",
       "      <td>0</td>\n",
       "      <td>1</td>\n",
       "      <td>1</td>\n",
       "      <td>-6.239015</td>\n",
       "      <td>53.342941</td>\n",
       "      <td>1.430174</td>\n",
       "      <td>0.844296</td>\n",
       "      <td>0.111624</td>\n",
       "      <td>53.3429414,-6.2390153</td>\n",
       "      <td>3.000000</td>\n",
       "      <td>4.019298</td>\n",
       "    </tr>\n",
       "    <tr>\n",
       "      <th>3</th>\n",
       "      <td>1650.0</td>\n",
       "      <td>apartment</td>\n",
       "      <td>Apt.2 Shelbourne Village, Ringsend, Dublin 4., Ballsbridge, Dublin 4</td>\n",
       "      <td>4</td>\n",
       "      <td>1</td>\n",
       "      <td>1</td>\n",
       "      <td>Available Now - Modern apartment in the heart of the silicon docks. Around t...</td>\n",
       "      <td>0</td>\n",
       "      <td>1</td>\n",
       "      <td>1</td>\n",
       "      <td>-6.235334</td>\n",
       "      <td>53.341877</td>\n",
       "      <td>1.701127</td>\n",
       "      <td>1.081645</td>\n",
       "      <td>0.235971</td>\n",
       "      <td>53.3418769,-6.2353345</td>\n",
       "      <td>3.000000</td>\n",
       "      <td>4.213462</td>\n",
       "    </tr>\n",
       "    <tr>\n",
       "      <th>4</th>\n",
       "      <td>2200.0</td>\n",
       "      <td>house</td>\n",
       "      <td>Kimmage Grove, Kimmage, Dublin 6w</td>\n",
       "      <td>6w</td>\n",
       "      <td>3</td>\n",
       "      <td>1</td>\n",
       "      <td>Available 1st June - Beautiful 3 bed semi detached house close to all amenit...</td>\n",
       "      <td>0</td>\n",
       "      <td>1</td>\n",
       "      <td>1</td>\n",
       "      <td>-6.291463</td>\n",
       "      <td>53.316600</td>\n",
       "      <td>4.030473</td>\n",
       "      <td>4.771825</td>\n",
       "      <td>4.672201</td>\n",
       "      <td>53.3165996,-6.2914635</td>\n",
       "      <td>1.666667</td>\n",
       "      <td>4.236842</td>\n",
       "    </tr>\n",
       "  </tbody>\n",
       "</table>\n",
       "</div>"
      ],
      "text/plain": [
       "   Monthly rent price(€)       Type  \\\n",
       "0                 1600.0  apartment   \n",
       "1                 1500.0  apartment   \n",
       "2                 2200.0  apartment   \n",
       "3                 1650.0  apartment   \n",
       "4                 2200.0      house   \n",
       "\n",
       "                                                                Address  \\\n",
       "0                            Earlsfield Court, FRANCIS STREET, Dublin 8   \n",
       "1  Clearwater Court North Royal Canal Park, Royal Canal Park, Dublin 15   \n",
       "2                                  Gallery Quay, Hanover Quay, Dublin 2   \n",
       "3  Apt.2 Shelbourne Village, Ringsend, Dublin 4., Ballsbridge, Dublin 4   \n",
       "4                                     Kimmage Grove, Kimmage, Dublin 6w   \n",
       "\n",
       "  Post code  Bedroom(s)  Bathroom(s)  \\\n",
       "0         8           2            1   \n",
       "1        15           2            1   \n",
       "2         2           2            2   \n",
       "3         4           1            1   \n",
       "4        6w           3            1   \n",
       "\n",
       "                                                                     Property desc  \\\n",
       "0  Available 1st June - Two double bedroom apartment in very well maintained an...   \n",
       "1  Available Now - Super spacious, interior designed and presented to a high st...   \n",
       "2  Available Now - Beautiful dual aspect top floor apartment flooded with light...   \n",
       "3  Available Now - Modern apartment in the heart of the silicon docks. Around t...   \n",
       "4  Available 1st June - Beautiful 3 bed semi detached house close to all amenit...   \n",
       "\n",
       "   Week YN  Month YN  Furnished Status  Longitude   latitude  dist_bridge  \\\n",
       "0        0         1                 1  -6.274056  53.339771     1.290848   \n",
       "1        0         1                 1  -6.317532  53.377553     5.141023   \n",
       "2        0         1                 1  -6.239015  53.342941     1.430174   \n",
       "3        0         1                 1  -6.235334  53.341877     1.701127   \n",
       "4        0         1                 1  -6.291463  53.316600     4.030473   \n",
       "\n",
       "   dist_ifsc  dist_silicon_docks                  coord  price level    rating  \n",
       "0   2.188464            2.462037  53.3397711,-6.2740561     2.500000  4.039655  \n",
       "1   5.725532            6.532332  53.3775534,-6.3175322     1.750000  4.356818  \n",
       "2   0.844296            0.111624  53.3429414,-6.2390153     3.000000  4.019298  \n",
       "3   1.081645            0.235971  53.3418769,-6.2353345     3.000000  4.213462  \n",
       "4   4.771825            4.672201  53.3165996,-6.2914635     1.666667  4.236842  "
      ]
     },
     "execution_count": 88,
     "metadata": {},
     "output_type": "execute_result"
    }
   ],
   "source": [
    "cols = rent_df.columns.tolist()\n",
    "cols = [ 'Monthly rent price(€)',\n",
    "        'Type',\n",
    "    'Address',\n",
    "        'Post code',\n",
    " 'Bedroom(s)',\n",
    " 'Bathroom(s)',\n",
    " 'Property desc',\n",
    " 'Week YN',\n",
    " 'Month YN',\n",
    " 'Furnished Status',\n",
    " 'Longitude',\n",
    " 'latitude',\n",
    " 'dist_bridge',\n",
    " 'dist_ifsc',\n",
    " 'dist_silicon_docks',\n",
    " 'coord',\n",
    " 'price level',\n",
    " 'rating']\n",
    "rent_df = rent_df[cols]\n",
    "rent_df.head()"
   ]
  },
  {
   "cell_type": "code",
   "execution_count": 25,
   "metadata": {},
   "outputs": [
    {
     "data": {
      "text/html": [
       "<div>\n",
       "<style scoped>\n",
       "    .dataframe tbody tr th:only-of-type {\n",
       "        vertical-align: middle;\n",
       "    }\n",
       "\n",
       "    .dataframe tbody tr th {\n",
       "        vertical-align: top;\n",
       "    }\n",
       "\n",
       "    .dataframe thead th {\n",
       "        text-align: right;\n",
       "    }\n",
       "</style>\n",
       "<table border=\"1\" class=\"dataframe\">\n",
       "  <thead>\n",
       "    <tr style=\"text-align: right;\">\n",
       "      <th></th>\n",
       "      <th>Monthly rent price(€)</th>\n",
       "      <th>Bedroom(s)</th>\n",
       "      <th>Bathroom(s)</th>\n",
       "      <th>Week YN</th>\n",
       "      <th>Month YN</th>\n",
       "      <th>Furnished Status</th>\n",
       "      <th>Longitude</th>\n",
       "      <th>latitude</th>\n",
       "      <th>dist_bridge</th>\n",
       "      <th>dist_ifsc</th>\n",
       "      <th>dist_silicon_docks</th>\n",
       "      <th>price level</th>\n",
       "      <th>rating</th>\n",
       "    </tr>\n",
       "  </thead>\n",
       "  <tbody>\n",
       "    <tr>\n",
       "      <th>count</th>\n",
       "      <td>2037.000000</td>\n",
       "      <td>2037.00000</td>\n",
       "      <td>2037.000000</td>\n",
       "      <td>2037.000000</td>\n",
       "      <td>2037.000000</td>\n",
       "      <td>2037.000000</td>\n",
       "      <td>2037.000000</td>\n",
       "      <td>2037.000000</td>\n",
       "      <td>2037.000000</td>\n",
       "      <td>2037.000000</td>\n",
       "      <td>2037.000000</td>\n",
       "      <td>1920.000000</td>\n",
       "      <td>2037.000000</td>\n",
       "    </tr>\n",
       "    <tr>\n",
       "      <th>mean</th>\n",
       "      <td>2125.632636</td>\n",
       "      <td>2.03731</td>\n",
       "      <td>1.539519</td>\n",
       "      <td>0.062838</td>\n",
       "      <td>0.937162</td>\n",
       "      <td>0.961217</td>\n",
       "      <td>-6.260323</td>\n",
       "      <td>53.337744</td>\n",
       "      <td>3.296497</td>\n",
       "      <td>3.492668</td>\n",
       "      <td>3.499426</td>\n",
       "      <td>2.193589</td>\n",
       "      <td>4.142047</td>\n",
       "    </tr>\n",
       "    <tr>\n",
       "      <th>std</th>\n",
       "      <td>844.130087</td>\n",
       "      <td>1.03266</td>\n",
       "      <td>0.795391</td>\n",
       "      <td>0.242730</td>\n",
       "      <td>0.242730</td>\n",
       "      <td>0.193124</td>\n",
       "      <td>0.042831</td>\n",
       "      <td>0.028313</td>\n",
       "      <td>2.884203</td>\n",
       "      <td>2.922756</td>\n",
       "      <td>2.917431</td>\n",
       "      <td>0.603940</td>\n",
       "      <td>0.167268</td>\n",
       "    </tr>\n",
       "    <tr>\n",
       "      <th>min</th>\n",
       "      <td>541.670000</td>\n",
       "      <td>0.00000</td>\n",
       "      <td>1.000000</td>\n",
       "      <td>0.000000</td>\n",
       "      <td>0.000000</td>\n",
       "      <td>0.000000</td>\n",
       "      <td>-6.446355</td>\n",
       "      <td>53.211262</td>\n",
       "      <td>0.046333</td>\n",
       "      <td>0.012100</td>\n",
       "      <td>0.083746</td>\n",
       "      <td>1.000000</td>\n",
       "      <td>3.738462</td>\n",
       "    </tr>\n",
       "    <tr>\n",
       "      <th>25%</th>\n",
       "      <td>1600.000000</td>\n",
       "      <td>1.00000</td>\n",
       "      <td>1.000000</td>\n",
       "      <td>0.000000</td>\n",
       "      <td>1.000000</td>\n",
       "      <td>1.000000</td>\n",
       "      <td>-6.272088</td>\n",
       "      <td>53.325677</td>\n",
       "      <td>1.398484</td>\n",
       "      <td>1.528210</td>\n",
       "      <td>1.724637</td>\n",
       "      <td>1.744318</td>\n",
       "      <td>4.006667</td>\n",
       "    </tr>\n",
       "    <tr>\n",
       "      <th>50%</th>\n",
       "      <td>2000.000000</td>\n",
       "      <td>2.00000</td>\n",
       "      <td>1.000000</td>\n",
       "      <td>0.000000</td>\n",
       "      <td>1.000000</td>\n",
       "      <td>1.000000</td>\n",
       "      <td>-6.258433</td>\n",
       "      <td>53.340413</td>\n",
       "      <td>2.157850</td>\n",
       "      <td>2.507124</td>\n",
       "      <td>2.526088</td>\n",
       "      <td>2.000000</td>\n",
       "      <td>4.130612</td>\n",
       "    </tr>\n",
       "    <tr>\n",
       "      <th>75%</th>\n",
       "      <td>2450.000000</td>\n",
       "      <td>2.00000</td>\n",
       "      <td>2.000000</td>\n",
       "      <td>0.000000</td>\n",
       "      <td>1.000000</td>\n",
       "      <td>1.000000</td>\n",
       "      <td>-6.237887</td>\n",
       "      <td>53.350725</td>\n",
       "      <td>4.071956</td>\n",
       "      <td>4.354209</td>\n",
       "      <td>4.357865</td>\n",
       "      <td>2.800000</td>\n",
       "      <td>4.259259</td>\n",
       "    </tr>\n",
       "    <tr>\n",
       "      <th>max</th>\n",
       "      <td>9100.000000</td>\n",
       "      <td>9.00000</td>\n",
       "      <td>9.000000</td>\n",
       "      <td>1.000000</td>\n",
       "      <td>1.000000</td>\n",
       "      <td>1.000000</td>\n",
       "      <td>-6.063090</td>\n",
       "      <td>53.422143</td>\n",
       "      <td>16.105668</td>\n",
       "      <td>16.051408</td>\n",
       "      <td>15.550015</td>\n",
       "      <td>3.285714</td>\n",
       "      <td>4.800000</td>\n",
       "    </tr>\n",
       "  </tbody>\n",
       "</table>\n",
       "</div>"
      ],
      "text/plain": [
       "       Monthly rent price(€)  Bedroom(s)  Bathroom(s)      Week YN  \\\n",
       "count            2037.000000  2037.00000  2037.000000  2037.000000   \n",
       "mean             2125.632636     2.03731     1.539519     0.062838   \n",
       "std               844.130087     1.03266     0.795391     0.242730   \n",
       "min               541.670000     0.00000     1.000000     0.000000   \n",
       "25%              1600.000000     1.00000     1.000000     0.000000   \n",
       "50%              2000.000000     2.00000     1.000000     0.000000   \n",
       "75%              2450.000000     2.00000     2.000000     0.000000   \n",
       "max              9100.000000     9.00000     9.000000     1.000000   \n",
       "\n",
       "          Month YN  Furnished Status    Longitude     latitude  dist_bridge  \\\n",
       "count  2037.000000       2037.000000  2037.000000  2037.000000  2037.000000   \n",
       "mean      0.937162          0.961217    -6.260323    53.337744     3.296497   \n",
       "std       0.242730          0.193124     0.042831     0.028313     2.884203   \n",
       "min       0.000000          0.000000    -6.446355    53.211262     0.046333   \n",
       "25%       1.000000          1.000000    -6.272088    53.325677     1.398484   \n",
       "50%       1.000000          1.000000    -6.258433    53.340413     2.157850   \n",
       "75%       1.000000          1.000000    -6.237887    53.350725     4.071956   \n",
       "max       1.000000          1.000000    -6.063090    53.422143    16.105668   \n",
       "\n",
       "         dist_ifsc  dist_silicon_docks  price level       rating  \n",
       "count  2037.000000         2037.000000  1920.000000  2037.000000  \n",
       "mean      3.492668            3.499426     2.193589     4.142047  \n",
       "std       2.922756            2.917431     0.603940     0.167268  \n",
       "min       0.012100            0.083746     1.000000     3.738462  \n",
       "25%       1.528210            1.724637     1.744318     4.006667  \n",
       "50%       2.507124            2.526088     2.000000     4.130612  \n",
       "75%       4.354209            4.357865     2.800000     4.259259  \n",
       "max      16.051408           15.550015     3.285714     4.800000  "
      ]
     },
     "execution_count": 25,
     "metadata": {},
     "output_type": "execute_result"
    }
   ],
   "source": [
    "rent_df.describe()"
   ]
  },
  {
   "cell_type": "markdown",
   "metadata": {},
   "source": [
    "# Analysing continuous  features:\n",
    "\n",
    "### Understanding the distribution of each continuous feature:\n",
    "\n",
    "We can see that the  monthly rental prices are skewed right with outliers lying above 4,000. \n",
    "\n",
    "Both longitude and latitude distributions are what we expect to see given that latitude of Dublin, Ireland is 53.350140, and the longitude is -6.266155.\n",
    "\n",
    "dist_bridge,dist_ifsc, dist_silicon_docks are skewed right with outliers above 8 km.\n",
    "\n",
    "The distributions of price_level and rating are more ambiguous showing multiple modes.\n",
    "\n",
    "\n",
    "\n"
   ]
  },
  {
   "cell_type": "code",
   "execution_count": 24,
   "metadata": {
    "scrolled": false
   },
   "outputs": [
    {
     "name": "stdout",
     "output_type": "stream",
     "text": [
      "Histogram of Monthly rent price(€)\n"
     ]
    },
    {
     "data": {
      "image/png": "[encoded data removed]",
      "text/plain": [
       "<Figure size 432x288 with 1 Axes>"
      ]
     },
     "metadata": {
      "needs_background": "light"
     },
     "output_type": "display_data"
    },
    {
     "name": "stdout",
     "output_type": "stream",
     "text": [
      "Histogram of Longitude\n"
     ]
    },
    {
     "data": {
      "image/png": "[encoded data removed]",
      "text/plain": [
       "<Figure size 432x288 with 1 Axes>"
      ]
     },
     "metadata": {
      "needs_background": "light"
     },
     "output_type": "display_data"
    },
    {
     "name": "stdout",
     "output_type": "stream",
     "text": [
      "Histogram of latitude\n"
     ]
    },
    {
     "data": {
      "image/png": "[encoded data removed]",
      "text/plain": [
       "<Figure size 432x288 with 1 Axes>"
      ]
     },
     "metadata": {
      "needs_background": "light"
     },
     "output_type": "display_data"
    },
    {
     "name": "stdout",
     "output_type": "stream",
     "text": [
      "Histogram of dist_bridge\n"
     ]
    },
    {
     "data": {
      "image/png": "[encoded data removed]",
      "text/plain": [
       "<Figure size 432x288 with 1 Axes>"
      ]
     },
     "metadata": {
      "needs_background": "light"
     },
     "output_type": "display_data"
    },
    {
     "name": "stdout",
     "output_type": "stream",
     "text": [
      "Histogram of dist_ifsc\n"
     ]
    },
    {
     "data": {
      "image/png": "[encoded data removed]",
      "text/plain": [
       "<Figure size 432x288 with 1 Axes>"
      ]
     },
     "metadata": {
      "needs_background": "light"
     },
     "output_type": "display_data"
    },
    {
     "name": "stdout",
     "output_type": "stream",
     "text": [
      "Histogram of dist_silicon_docks\n"
     ]
    },
    {
     "data": {
      "image/png": "[encoded data removed]",
      "text/plain": [
       "<Figure size 432x288 with 1 Axes>"
      ]
     },
     "metadata": {
      "needs_background": "light"
     },
     "output_type": "display_data"
    },
    {
     "name": "stdout",
     "output_type": "stream",
     "text": [
      "Histogram of price level\n"
     ]
    },
    {
     "data": {
      "image/png": "[encoded data removed]",
      "text/plain": [
       "<Figure size 432x288 with 1 Axes>"
      ]
     },
     "metadata": {
      "needs_background": "light"
     },
     "output_type": "display_data"
    },
    {
     "name": "stdout",
     "output_type": "stream",
     "text": [
      "Histogram of rating\n"
     ]
    },
    {
     "data": {
      "image/png": "[encoded data removed]",
      "text/plain": [
       "<Figure size 432x288 with 1 Axes>"
      ]
     },
     "metadata": {
      "needs_background": "light"
     },
     "output_type": "display_data"
    }
   ],
   "source": [
    "colours = ['b','g','r','c','m','y','darkgoldenrod', 'hotpink']\n",
    "i=0\n",
    "for column in rent_df:\n",
    "    if np.issubdtype(rent_df[column].dtype, np.float64):\n",
    "        print(\"Histogram of {}\".format(str(column)))\n",
    "        try:\n",
    "            sns.distplot(rent_df[column],kde=True,color = colours[i])\n",
    "            i += 1\n",
    "            plt.show()\n",
    "        except RuntimeError:\n",
    "            pass\n",
    "        "
   ]
  },
  {
   "cell_type": "code",
   "execution_count": 40,
   "metadata": {},
   "outputs": [
    {
     "name": "stdout",
     "output_type": "stream",
     "text": [
      "Boxplot of Monthly rent price(€)\n"
     ]
    },
    {
     "data": {
      "image/png": "[encoded data removed]",
      "text/plain": [
       "<Figure size 432x288 with 1 Axes>"
      ]
     },
     "metadata": {
      "needs_background": "light"
     },
     "output_type": "display_data"
    },
    {
     "name": "stdout",
     "output_type": "stream",
     "text": [
      "Boxplot's of dist_bridge, dist_ifsc and dist_silicon_docks\n"
     ]
    },
    {
     "data": {
      "image/png": "[encoded data removed]",
      "text/plain": [
       "<Figure size 432x288 with 1 Axes>"
      ]
     },
     "metadata": {
      "needs_background": "light"
     },
     "output_type": "display_data"
    },
    {
     "name": "stdout",
     "output_type": "stream",
     "text": [
      "Boxplot's of price level and rating\n"
     ]
    },
    {
     "data": {
      "image/png": "[encoded data removed]",
      "text/plain": [
       "<Figure size 432x288 with 1 Axes>"
      ]
     },
     "metadata": {
      "needs_background": "light"
     },
     "output_type": "display_data"
    }
   ],
   "source": [
    "ds_dist = rent_df[['dist_bridge','dist_ifsc','dist_silicon_docks']]\n",
    "print(\"Boxplot of Monthly rent price(€)\")\n",
    "sns.boxplot(data = rent_df[\"Monthly rent price(€)\"])\n",
    "plt.show()\n",
    "print(\"Boxplot's of dist_bridge, dist_ifsc and dist_silicon_docks\")\n",
    "sns.boxplot(data=ds_dist)\n",
    "plt.show()\n",
    "print(\"Boxplot's of price level and rating\")\n",
    "sns.boxplot(data= rent_df[[\"price level\",\"rating\"]])\n",
    "plt.show()\n"
   ]
  },
  {
   "cell_type": "markdown",
   "metadata": {},
   "source": [
    "### Correlations of  Continuous Features \n",
    "\n",
    "There seems to be an issue of multicollinearity with dist_bridge, dist_ifsc and dist_silicon_docks. Multicollinearity exists whenever an independent variable is highly correlated with one or more of the other independent variables in a multiple regression equation. Multicollinearity is a problem because it undermines the statistical significance of an independent variable. \n",
    "\n",
    "There seems to be a moderate correlation between price level and dist_bridge indicating the prices of goods are higher in the city centre than in the outskirts  of the city.\n",
    "\n",
    "The correlation between rating and dist_bridge   seems to indicate  nearby restaurants in the city centre have lower ratings compared to restaurants located further away from the city centre. However, this can be due to a larger amount of people attending such restaurants.\n",
    "\n",
    "There is negative correlation between rating and price_level which makes sense as people expect more when paying for expensive food and when they don't receive good service they are more likely to leave a negative review.\n",
    "\n",
    "Correlation does not equal causality so these are just my assumptions so far.\n",
    "\n"
   ]
  },
  {
   "cell_type": "code",
   "execution_count": 41,
   "metadata": {},
   "outputs": [
    {
     "data": {
      "text/html": [
       "<div>\n",
       "<style scoped>\n",
       "    .dataframe tbody tr th:only-of-type {\n",
       "        vertical-align: middle;\n",
       "    }\n",
       "\n",
       "    .dataframe tbody tr th {\n",
       "        vertical-align: top;\n",
       "    }\n",
       "\n",
       "    .dataframe thead th {\n",
       "        text-align: right;\n",
       "    }\n",
       "</style>\n",
       "<table border=\"1\" class=\"dataframe\">\n",
       "  <thead>\n",
       "    <tr style=\"text-align: right;\">\n",
       "      <th></th>\n",
       "      <th>Monthly rent price(€)</th>\n",
       "      <th>dist_bridge</th>\n",
       "      <th>dist_ifsc</th>\n",
       "      <th>dist_silicon_docks</th>\n",
       "      <th>price level</th>\n",
       "      <th>rating</th>\n",
       "    </tr>\n",
       "  </thead>\n",
       "  <tbody>\n",
       "    <tr>\n",
       "      <th>Monthly rent price(€)</th>\n",
       "      <td>1.000000</td>\n",
       "      <td>0.013815</td>\n",
       "      <td>-0.020197</td>\n",
       "      <td>-0.074080</td>\n",
       "      <td>0.065253</td>\n",
       "      <td>0.127137</td>\n",
       "    </tr>\n",
       "    <tr>\n",
       "      <th>dist_bridge</th>\n",
       "      <td>0.013815</td>\n",
       "      <td>1.000000</td>\n",
       "      <td>0.978378</td>\n",
       "      <td>0.943882</td>\n",
       "      <td>-0.584483</td>\n",
       "      <td>0.614616</td>\n",
       "    </tr>\n",
       "    <tr>\n",
       "      <th>dist_ifsc</th>\n",
       "      <td>-0.020197</td>\n",
       "      <td>0.978378</td>\n",
       "      <td>1.000000</td>\n",
       "      <td>0.980608</td>\n",
       "      <td>-0.583078</td>\n",
       "      <td>0.588578</td>\n",
       "    </tr>\n",
       "    <tr>\n",
       "      <th>dist_silicon_docks</th>\n",
       "      <td>-0.074080</td>\n",
       "      <td>0.943882</td>\n",
       "      <td>0.980608</td>\n",
       "      <td>1.000000</td>\n",
       "      <td>-0.606065</td>\n",
       "      <td>0.488014</td>\n",
       "    </tr>\n",
       "    <tr>\n",
       "      <th>price level</th>\n",
       "      <td>0.065253</td>\n",
       "      <td>-0.584483</td>\n",
       "      <td>-0.583078</td>\n",
       "      <td>-0.606065</td>\n",
       "      <td>1.000000</td>\n",
       "      <td>-0.453573</td>\n",
       "    </tr>\n",
       "    <tr>\n",
       "      <th>rating</th>\n",
       "      <td>0.127137</td>\n",
       "      <td>0.614616</td>\n",
       "      <td>0.588578</td>\n",
       "      <td>0.488014</td>\n",
       "      <td>-0.453573</td>\n",
       "      <td>1.000000</td>\n",
       "    </tr>\n",
       "  </tbody>\n",
       "</table>\n",
       "</div>"
      ],
      "text/plain": [
       "                       Monthly rent price(€)  dist_bridge  dist_ifsc  \\\n",
       "Monthly rent price(€)               1.000000     0.013815  -0.020197   \n",
       "dist_bridge                         0.013815     1.000000   0.978378   \n",
       "dist_ifsc                          -0.020197     0.978378   1.000000   \n",
       "dist_silicon_docks                 -0.074080     0.943882   0.980608   \n",
       "price level                         0.065253    -0.584483  -0.583078   \n",
       "rating                              0.127137     0.614616   0.588578   \n",
       "\n",
       "                       dist_silicon_docks  price level    rating  \n",
       "Monthly rent price(€)           -0.074080     0.065253  0.127137  \n",
       "dist_bridge                      0.943882    -0.584483  0.614616  \n",
       "dist_ifsc                        0.980608    -0.583078  0.588578  \n",
       "dist_silicon_docks               1.000000    -0.606065  0.488014  \n",
       "price level                     -0.606065     1.000000 -0.453573  \n",
       "rating                           0.488014    -0.453573  1.000000  "
      ]
     },
     "execution_count": 41,
     "metadata": {},
     "output_type": "execute_result"
    }
   ],
   "source": [
    "rent_df[[\"Monthly rent price(€)\",'dist_bridge','dist_ifsc','dist_silicon_docks','price level','rating']].corr()"
   ]
  },
  {
   "cell_type": "markdown",
   "metadata": {},
   "source": [
    "### Correlations of Continuous Features and discrete features\n",
    "\n",
    "I can't  use Pearson's correlation coefficent as it is only for continuous features.\n",
    "I used Kendall's instead of Spearman's correlation because of a smaller gross error sensitivity (GES) (more robust) and a smaller asymptotic variance (AV) (more efficient).\n",
    "\n",
    "The number of bedrooms and bathrooms seems to be moderately correlated with monthly rent price indicating, in general, the bigger the house the higher the price.\n",
    "\n",
    "Correlation does not equal causality so these are just my assumptions so far.\n",
    "\n",
    "\n"
   ]
  },
  {
   "cell_type": "code",
   "execution_count": 43,
   "metadata": {},
   "outputs": [
    {
     "data": {
      "text/html": [
       "<div>\n",
       "<style scoped>\n",
       "    .dataframe tbody tr th:only-of-type {\n",
       "        vertical-align: middle;\n",
       "    }\n",
       "\n",
       "    .dataframe tbody tr th {\n",
       "        vertical-align: top;\n",
       "    }\n",
       "\n",
       "    .dataframe thead th {\n",
       "        text-align: right;\n",
       "    }\n",
       "</style>\n",
       "<table border=\"1\" class=\"dataframe\">\n",
       "  <thead>\n",
       "    <tr style=\"text-align: right;\">\n",
       "      <th></th>\n",
       "      <th>Monthly rent price(€)</th>\n",
       "      <th>Bedroom(s)</th>\n",
       "      <th>Bathroom(s)</th>\n",
       "      <th>Week YN</th>\n",
       "      <th>Month YN</th>\n",
       "      <th>Furnished Status</th>\n",
       "      <th>dist_bridge</th>\n",
       "      <th>dist_ifsc</th>\n",
       "      <th>dist_silicon_docks</th>\n",
       "      <th>price level</th>\n",
       "      <th>rating</th>\n",
       "    </tr>\n",
       "  </thead>\n",
       "  <tbody>\n",
       "    <tr>\n",
       "      <th>Monthly rent price(€)</th>\n",
       "      <td>1.000000</td>\n",
       "      <td>0.637368</td>\n",
       "      <td>0.552598</td>\n",
       "      <td>-0.065715</td>\n",
       "      <td>0.065715</td>\n",
       "      <td>-0.177288</td>\n",
       "      <td>0.007241</td>\n",
       "      <td>-0.048357</td>\n",
       "      <td>-0.103773</td>\n",
       "      <td>0.067074</td>\n",
       "      <td>0.079029</td>\n",
       "    </tr>\n",
       "    <tr>\n",
       "      <th>Bedroom(s)</th>\n",
       "      <td>0.637368</td>\n",
       "      <td>1.000000</td>\n",
       "      <td>0.617868</td>\n",
       "      <td>-0.098551</td>\n",
       "      <td>0.098551</td>\n",
       "      <td>-0.217185</td>\n",
       "      <td>0.182836</td>\n",
       "      <td>0.144878</td>\n",
       "      <td>0.125227</td>\n",
       "      <td>-0.164131</td>\n",
       "      <td>0.163570</td>\n",
       "    </tr>\n",
       "    <tr>\n",
       "      <th>Bathroom(s)</th>\n",
       "      <td>0.552598</td>\n",
       "      <td>0.617868</td>\n",
       "      <td>1.000000</td>\n",
       "      <td>-0.062101</td>\n",
       "      <td>0.062101</td>\n",
       "      <td>-0.230607</td>\n",
       "      <td>0.207589</td>\n",
       "      <td>0.142069</td>\n",
       "      <td>0.093972</td>\n",
       "      <td>-0.125580</td>\n",
       "      <td>0.195146</td>\n",
       "    </tr>\n",
       "    <tr>\n",
       "      <th>Week YN</th>\n",
       "      <td>-0.065715</td>\n",
       "      <td>-0.098551</td>\n",
       "      <td>-0.062101</td>\n",
       "      <td>1.000000</td>\n",
       "      <td>-1.000000</td>\n",
       "      <td>0.052013</td>\n",
       "      <td>-0.042223</td>\n",
       "      <td>-0.027800</td>\n",
       "      <td>-0.014235</td>\n",
       "      <td>0.009950</td>\n",
       "      <td>-0.021227</td>\n",
       "    </tr>\n",
       "    <tr>\n",
       "      <th>Month YN</th>\n",
       "      <td>0.065715</td>\n",
       "      <td>0.098551</td>\n",
       "      <td>0.062101</td>\n",
       "      <td>-1.000000</td>\n",
       "      <td>1.000000</td>\n",
       "      <td>-0.052013</td>\n",
       "      <td>0.042223</td>\n",
       "      <td>0.027800</td>\n",
       "      <td>0.014235</td>\n",
       "      <td>-0.009950</td>\n",
       "      <td>0.021227</td>\n",
       "    </tr>\n",
       "    <tr>\n",
       "      <th>Furnished Status</th>\n",
       "      <td>-0.177288</td>\n",
       "      <td>-0.217185</td>\n",
       "      <td>-0.230607</td>\n",
       "      <td>0.052013</td>\n",
       "      <td>-0.052013</td>\n",
       "      <td>1.000000</td>\n",
       "      <td>-0.125943</td>\n",
       "      <td>-0.115440</td>\n",
       "      <td>-0.090665</td>\n",
       "      <td>0.097920</td>\n",
       "      <td>-0.121423</td>\n",
       "    </tr>\n",
       "    <tr>\n",
       "      <th>dist_bridge</th>\n",
       "      <td>0.007241</td>\n",
       "      <td>0.182836</td>\n",
       "      <td>0.207589</td>\n",
       "      <td>-0.042223</td>\n",
       "      <td>0.042223</td>\n",
       "      <td>-0.125943</td>\n",
       "      <td>1.000000</td>\n",
       "      <td>0.756947</td>\n",
       "      <td>0.616558</td>\n",
       "      <td>-0.569105</td>\n",
       "      <td>0.559060</td>\n",
       "    </tr>\n",
       "    <tr>\n",
       "      <th>dist_ifsc</th>\n",
       "      <td>-0.048357</td>\n",
       "      <td>0.144878</td>\n",
       "      <td>0.142069</td>\n",
       "      <td>-0.027800</td>\n",
       "      <td>0.027800</td>\n",
       "      <td>-0.115440</td>\n",
       "      <td>0.756947</td>\n",
       "      <td>1.000000</td>\n",
       "      <td>0.799136</td>\n",
       "      <td>-0.570958</td>\n",
       "      <td>0.489563</td>\n",
       "    </tr>\n",
       "    <tr>\n",
       "      <th>dist_silicon_docks</th>\n",
       "      <td>-0.103773</td>\n",
       "      <td>0.125227</td>\n",
       "      <td>0.093972</td>\n",
       "      <td>-0.014235</td>\n",
       "      <td>0.014235</td>\n",
       "      <td>-0.090665</td>\n",
       "      <td>0.616558</td>\n",
       "      <td>0.799136</td>\n",
       "      <td>1.000000</td>\n",
       "      <td>-0.578163</td>\n",
       "      <td>0.324831</td>\n",
       "    </tr>\n",
       "    <tr>\n",
       "      <th>price level</th>\n",
       "      <td>0.067074</td>\n",
       "      <td>-0.164131</td>\n",
       "      <td>-0.125580</td>\n",
       "      <td>0.009950</td>\n",
       "      <td>-0.009950</td>\n",
       "      <td>0.097920</td>\n",
       "      <td>-0.569105</td>\n",
       "      <td>-0.570958</td>\n",
       "      <td>-0.578163</td>\n",
       "      <td>1.000000</td>\n",
       "      <td>-0.326431</td>\n",
       "    </tr>\n",
       "    <tr>\n",
       "      <th>rating</th>\n",
       "      <td>0.079029</td>\n",
       "      <td>0.163570</td>\n",
       "      <td>0.195146</td>\n",
       "      <td>-0.021227</td>\n",
       "      <td>0.021227</td>\n",
       "      <td>-0.121423</td>\n",
       "      <td>0.559060</td>\n",
       "      <td>0.489563</td>\n",
       "      <td>0.324831</td>\n",
       "      <td>-0.326431</td>\n",
       "      <td>1.000000</td>\n",
       "    </tr>\n",
       "  </tbody>\n",
       "</table>\n",
       "</div>"
      ],
      "text/plain": [
       "                       Monthly rent price(€)  Bedroom(s)  Bathroom(s)  \\\n",
       "Monthly rent price(€)               1.000000    0.637368     0.552598   \n",
       "Bedroom(s)                          0.637368    1.000000     0.617868   \n",
       "Bathroom(s)                         0.552598    0.617868     1.000000   \n",
       "Week YN                            -0.065715   -0.098551    -0.062101   \n",
       "Month YN                            0.065715    0.098551     0.062101   \n",
       "Furnished Status                   -0.177288   -0.217185    -0.230607   \n",
       "dist_bridge                         0.007241    0.182836     0.207589   \n",
       "dist_ifsc                          -0.048357    0.144878     0.142069   \n",
       "dist_silicon_docks                 -0.103773    0.125227     0.093972   \n",
       "price level                         0.067074   -0.164131    -0.125580   \n",
       "rating                              0.079029    0.163570     0.195146   \n",
       "\n",
       "                        Week YN  Month YN  Furnished Status  dist_bridge  \\\n",
       "Monthly rent price(€) -0.065715  0.065715         -0.177288     0.007241   \n",
       "Bedroom(s)            -0.098551  0.098551         -0.217185     0.182836   \n",
       "Bathroom(s)           -0.062101  0.062101         -0.230607     0.207589   \n",
       "Week YN                1.000000 -1.000000          0.052013    -0.042223   \n",
       "Month YN              -1.000000  1.000000         -0.052013     0.042223   \n",
       "Furnished Status       0.052013 -0.052013          1.000000    -0.125943   \n",
       "dist_bridge           -0.042223  0.042223         -0.125943     1.000000   \n",
       "dist_ifsc             -0.027800  0.027800         -0.115440     0.756947   \n",
       "dist_silicon_docks    -0.014235  0.014235         -0.090665     0.616558   \n",
       "price level            0.009950 -0.009950          0.097920    -0.569105   \n",
       "rating                -0.021227  0.021227         -0.121423     0.559060   \n",
       "\n",
       "                       dist_ifsc  dist_silicon_docks  price level    rating  \n",
       "Monthly rent price(€)  -0.048357           -0.103773     0.067074  0.079029  \n",
       "Bedroom(s)              0.144878            0.125227    -0.164131  0.163570  \n",
       "Bathroom(s)             0.142069            0.093972    -0.125580  0.195146  \n",
       "Week YN                -0.027800           -0.014235     0.009950 -0.021227  \n",
       "Month YN                0.027800            0.014235    -0.009950  0.021227  \n",
       "Furnished Status       -0.115440           -0.090665     0.097920 -0.121423  \n",
       "dist_bridge             0.756947            0.616558    -0.569105  0.559060  \n",
       "dist_ifsc               1.000000            0.799136    -0.570958  0.489563  \n",
       "dist_silicon_docks      0.799136            1.000000    -0.578163  0.324831  \n",
       "price level            -0.570958           -0.578163     1.000000 -0.326431  \n",
       "rating                  0.489563            0.324831    -0.326431  1.000000  "
      ]
     },
     "execution_count": 43,
     "metadata": {},
     "output_type": "execute_result"
    }
   ],
   "source": [
    "rent_df[[\"Monthly rent price(€)\",'Bedroom(s)','Bathroom(s)','Week YN', 'Month YN','Furnished Status','dist_bridge','dist_ifsc','dist_silicon_docks','price level','rating']].corr(method='kendall')"
   ]
  },
  {
   "cell_type": "code",
   "execution_count": 44,
   "metadata": {},
   "outputs": [],
   "source": [
    "both_corr = rent_df[[\"Monthly rent price(€)\",'Bedroom(s)','Bathroom(s)','Week YN', 'Month YN','Furnished Status','dist_bridge','dist_ifsc','dist_silicon_docks','price level','rating']].corr(method='kendall')"
   ]
  },
  {
   "cell_type": "code",
   "execution_count": 45,
   "metadata": {},
   "outputs": [
    {
     "data": {
      "image/png": "[encoded data removed]",
      "text/plain": [
       "<Figure size 432x288 with 2 Axes>"
      ]
     },
     "metadata": {
      "needs_background": "light"
     },
     "output_type": "display_data"
    }
   ],
   "source": [
    "ax = sns.heatmap(\n",
    "    both_corr, \n",
    "    vmin=-1, vmax=1, center=0,\n",
    "    cmap=sns.diverging_palette(20, 220, n=200),\n",
    "    square=True\n",
    ")\n",
    "ax.set_xticklabels(\n",
    "    ax.get_xticklabels(),\n",
    "    rotation=45,\n",
    "    horizontalalignment='right'\n",
    ");"
   ]
  },
  {
   "cell_type": "markdown",
   "metadata": {},
   "source": [
    "## Barcharts of  discrete features:\n",
    "\n",
    "#### Some inferences:\n",
    "\n",
    "- The majority of rental properties in Dublin are furnished.\n",
    "\n",
    "- The majority of  properties rental prices  are listed per month.\n",
    "\n",
    "- Apartments are more common in the Dublin rental market than houses.\n",
    "\n",
    "- The top 5 Dublin postal districts that have the highest amount of properties  are 4,2,8,1 and 6.\n",
    "\n",
    "- The mode number of bathrooms and bedrooms are  1 and 2 respectively.\n",
    "\n"
   ]
  },
  {
   "cell_type": "code",
   "execution_count": 54,
   "metadata": {},
   "outputs": [
    {
     "data": {
      "application/javascript": [
       "/*\"a method to disable scrollable frames\" */\n",
       "IPython.OutputArea.prototype._should_scroll = function(lines) {\n",
       "    return false;\n",
       "}\n"
      ],
      "text/plain": [
       "<IPython.core.display.Javascript object>"
      ]
     },
     "metadata": {},
     "output_type": "display_data"
    }
   ],
   "source": [
    "\n",
    "%%javascript\n",
    "/* This diables the scroll window in a juypter notebook  */\n",
    "IPython.OutputArea.prototype._should_scroll = function(lines) {\n",
    "    return false;\n",
    "}"
   ]
  },
  {
   "cell_type": "code",
   "execution_count": 57,
   "metadata": {},
   "outputs": [
    {
     "name": "stdout",
     "output_type": "stream",
     "text": [
      "barchat of Bedroom(s) total = 9\n"
     ]
    },
    {
     "data": {
      "image/png": "[encoded data removed]",
      "text/plain": [
       "<Figure size 432x288 with 1 Axes>"
      ]
     },
     "metadata": {
      "needs_background": "light"
     },
     "output_type": "display_data"
    },
    {
     "name": "stdout",
     "output_type": "stream",
     "text": [
      "barchat of Bathroom(s) total = 8\n"
     ]
    },
    {
     "data": {
      "image/png": "[encoded data removed]",
      "text/plain": [
       "<Figure size 432x288 with 1 Axes>"
      ]
     },
     "metadata": {
      "needs_background": "light"
     },
     "output_type": "display_data"
    },
    {
     "name": "stdout",
     "output_type": "stream",
     "text": [
      "barchat of Furnished Status total = 2\n"
     ]
    },
    {
     "data": {
      "image/png": "[encoded data removed]",
      "text/plain": [
       "<Figure size 432x288 with 1 Axes>"
      ]
     },
     "metadata": {
      "needs_background": "light"
     },
     "output_type": "display_data"
    },
    {
     "name": "stdout",
     "output_type": "stream",
     "text": [
      "barchat of Week YN total = 2\n"
     ]
    },
    {
     "data": {
      "image/png": "[encoded data removed]",
      "text/plain": [
       "<Figure size 432x288 with 1 Axes>"
      ]
     },
     "metadata": {
      "needs_background": "light"
     },
     "output_type": "display_data"
    },
    {
     "name": "stdout",
     "output_type": "stream",
     "text": [
      "barchat of Month YN total = 2\n"
     ]
    },
    {
     "data": {
      "image/png": "[encoded data removed]",
      "text/plain": [
       "<Figure size 432x288 with 1 Axes>"
      ]
     },
     "metadata": {
      "needs_background": "light"
     },
     "output_type": "display_data"
    },
    {
     "name": "stdout",
     "output_type": "stream",
     "text": [
      "barchat of Type total = 2\n"
     ]
    },
    {
     "data": {
      "image/png": "[encoded data removed]",
      "text/plain": [
       "<Figure size 432x288 with 1 Axes>"
      ]
     },
     "metadata": {
      "needs_background": "light"
     },
     "output_type": "display_data"
    },
    {
     "name": "stdout",
     "output_type": "stream",
     "text": [
      "barchat of Post code total = 22\n"
     ]
    },
    {
     "data": {
      "image/png": "[encoded data removed]",
      "text/plain": [
       "<Figure size 432x288 with 1 Axes>"
      ]
     },
     "metadata": {
      "needs_background": "light"
     },
     "output_type": "display_data"
    }
   ],
   "source": [
    "df_cat = rent_df[['Bedroom(s)','Bathroom(s)','Furnished Status','Week YN','Month YN', \"Type\", \"Post code\"]]\n",
    "for i in df_cat.columns:\n",
    "    cat_num =df_cat[i].value_counts()\n",
    "    print(\"barchat of {} total = {}\".format(i,len(cat_num)))\n",
    "    sns.barplot(x=cat_num.index,y=cat_num,data=df_cat)\n",
    "    plt.show()\n",
    "    "
   ]
  },
  {
   "cell_type": "code",
   "execution_count": 63,
   "metadata": {},
   "outputs": [
    {
     "name": "stdout",
     "output_type": "stream",
     "text": [
      "Boxplot of Bedroom(s) and Bathroom(s)\n"
     ]
    },
    {
     "data": {
      "image/png": "[encoded data removed]",
      "text/plain": [
       "<Figure size 432x288 with 1 Axes>"
      ]
     },
     "metadata": {
      "needs_background": "light"
     },
     "output_type": "display_data"
    }
   ],
   "source": [
    "ds_house  = rent_df[['Bedroom(s)','Bathroom(s)']]\n",
    "print(\"Boxplot of Bedroom(s) and Bathroom(s)\")\n",
    "sns.boxplot(data = ds_house)\n",
    "plt.show()"
   ]
  },
  {
   "cell_type": "markdown",
   "metadata": {},
   "source": [
    "# Digging deeper into the data\n",
    "\n"
   ]
  },
  {
   "cell_type": "code",
   "execution_count": 266,
   "metadata": {},
   "outputs": [
    {
     "data": {
      "text/plain": [
       "Index(['Monthly rent price(€)', 'Type', 'Address', 'Post code', 'Bedroom(s)',\n",
       "       'Bathroom(s)', 'Property desc', 'Week YN', 'Month YN',\n",
       "       'Furnished Status', 'Longitude', 'latitude', 'dist_bridge', 'dist_ifsc',\n",
       "       'dist_silicon_docks', 'coord', 'price level', 'rating'],\n",
       "      dtype='object')"
      ]
     },
     "execution_count": 266,
     "metadata": {},
     "output_type": "execute_result"
    }
   ],
   "source": [
    "rent_df['price level'].fillna(value = price_level.median(),inplace=True)\n",
    "rent_df.columns"
   ]
  },
  {
   "cell_type": "markdown",
   "metadata": {},
   "source": [
    "The sample mean of the apartment's rental prices is less than that of houses.\n",
    "Although, down below a two-sample t=test indicates that their differences are not significant(5 % level of confidence).\n",
    "\n",
    "The sample apartment dist_bridge mean is less than that of houses. This makes intuitive sense as land is scarce in the city centre. Therefore, land prices are more expensive in the city centre, leading to high rise developments, in order to gain the maximum value of the land available. Land is less scare in the outskirts. Houses are  more likely to be built here. Although down below a two-sample t=test indicates that their differences are not significant(5 % level of confidence).\n",
    "\n",
    "As apartments are more likely to be  built in land pressure zones(ie the city centre where the average price of goods is higher than the outskirts), the sample apartment price_level mean is higher than that of houses. Although down below a two-sample t=test indicates that their differences are not significant(5 % level of confidence).\n",
    "\n",
    "Rating of nearby restaurants grouped by type of property is not significant for my analysis.\n"
   ]
  },
  {
   "cell_type": "code",
   "execution_count": 271,
   "metadata": {},
   "outputs": [
    {
     "data": {
      "text/html": [
       "<div>\n",
       "<style scoped>\n",
       "    .dataframe tbody tr th:only-of-type {\n",
       "        vertical-align: middle;\n",
       "    }\n",
       "\n",
       "    .dataframe tbody tr th {\n",
       "        vertical-align: top;\n",
       "    }\n",
       "\n",
       "    .dataframe thead th {\n",
       "        text-align: right;\n",
       "    }\n",
       "</style>\n",
       "<table border=\"1\" class=\"dataframe\">\n",
       "  <thead>\n",
       "    <tr style=\"text-align: right;\">\n",
       "      <th></th>\n",
       "      <th>Monthly rent price(€)</th>\n",
       "      <th>dist_bridge</th>\n",
       "      <th>price level</th>\n",
       "      <th>rating</th>\n",
       "    </tr>\n",
       "    <tr>\n",
       "      <th>Type</th>\n",
       "      <th></th>\n",
       "      <th></th>\n",
       "      <th></th>\n",
       "      <th></th>\n",
       "    </tr>\n",
       "  </thead>\n",
       "  <tbody>\n",
       "    <tr>\n",
       "      <th>apartment</th>\n",
       "      <td>1948.662619</td>\n",
       "      <td>2.895671</td>\n",
       "      <td>2.265007</td>\n",
       "      <td>4.124010</td>\n",
       "    </tr>\n",
       "    <tr>\n",
       "      <th>house</th>\n",
       "      <td>2701.247015</td>\n",
       "      <td>4.600227</td>\n",
       "      <td>1.914010</td>\n",
       "      <td>4.200716</td>\n",
       "    </tr>\n",
       "  </tbody>\n",
       "</table>\n",
       "</div>"
      ],
      "text/plain": [
       "           Monthly rent price(€)  dist_bridge  price level    rating\n",
       "Type                                                                \n",
       "apartment            1948.662619     2.895671     2.265007  4.124010\n",
       "house                2701.247015     4.600227     1.914010  4.200716"
      ]
     },
     "execution_count": 271,
     "metadata": {},
     "output_type": "execute_result"
    }
   ],
   "source": [
    "pd.pivot_table(rent_df, index=\"Type\" , values=[\"Monthly rent price(€)\",'price level', 'rating', 'dist_bridge'], aggfunc=np.mean)"
   ]
  },
  {
   "cell_type": "code",
   "execution_count": 308,
   "metadata": {},
   "outputs": [
    {
     "data": {
      "image/png": "[encoded data removed]",
      "text/plain": [
       "<Figure size 432x288 with 1 Axes>"
      ]
     },
     "metadata": {
      "needs_background": "light"
     },
     "output_type": "display_data"
    },
    {
     "name": "stdout",
     "output_type": "stream",
     "text": [
      "p value for dist_bridge: 1.4491864562948072e-30 and the tstatistic: -11.682346628213125\n",
      "p value for price level: 3.6663096235752837e-31 and the tstatistic: 11.806418983691602\n",
      "p value for rating: 8.070986881959923e-19 and the tstatistic: -8.946257343978061\n",
      "p value for Monthly rent price(€): 2.8931033427562745e-70 and the tstatistic: -18.42944256128327\n"
     ]
    }
   ],
   "source": [
    "aprt = rent_df[rent_df.Type == \"apartment\" ]\n",
    "home = rent_df[rent_df.Type == \"house\"]\n",
    "sns.distplot(aprt[\"Monthly rent price(€)\"],label=\"Apartments\")\n",
    "sns.distplot(home['Monthly rent price(€)'],label=\"Houses\")\n",
    "plt.legend()\n",
    "plt.show()\n",
    "columns=['dist_bridge','price level','rating','Monthly rent price(€)']\n",
    "for col in columns:\n",
    "    t_stat, p_val = stats.ttest_ind(aprt[col], home[col])\n",
    "    print(\"p value for %s: \" % (col) +str(p_val)+\" and the tstatistic: \" + str(t_stat))"
   ]
  },
  {
   "cell_type": "markdown",
   "metadata": {},
   "source": [
    "A pivot table of Monthly rent price(€),\tdist_bridge, price level and rating grouped by type and then by bedroom(s).\n",
    "As expected, for both apartments and houses, generally, rent prices increased as the number of bedrooms increased.\n",
    "The other features are more ambiguous as there is no clear trend.\n"
   ]
  },
  {
   "cell_type": "code",
   "execution_count": 272,
   "metadata": {},
   "outputs": [
    {
     "data": {
      "text/html": [
       "<div>\n",
       "<style scoped>\n",
       "    .dataframe tbody tr th:only-of-type {\n",
       "        vertical-align: middle;\n",
       "    }\n",
       "\n",
       "    .dataframe tbody tr th {\n",
       "        vertical-align: top;\n",
       "    }\n",
       "\n",
       "    .dataframe thead th {\n",
       "        text-align: right;\n",
       "    }\n",
       "</style>\n",
       "<table border=\"1\" class=\"dataframe\">\n",
       "  <thead>\n",
       "    <tr style=\"text-align: right;\">\n",
       "      <th></th>\n",
       "      <th></th>\n",
       "      <th>Monthly rent price(€)</th>\n",
       "      <th>dist_bridge</th>\n",
       "      <th>price level</th>\n",
       "      <th>rating</th>\n",
       "    </tr>\n",
       "    <tr>\n",
       "      <th>Type</th>\n",
       "      <th>Bedroom(s)</th>\n",
       "      <th></th>\n",
       "      <th></th>\n",
       "      <th></th>\n",
       "      <th></th>\n",
       "    </tr>\n",
       "  </thead>\n",
       "  <tbody>\n",
       "    <tr>\n",
       "      <th rowspan=\"7\" valign=\"top\">apartment</th>\n",
       "      <th>0</th>\n",
       "      <td>1450.000000</td>\n",
       "      <td>3.413596</td>\n",
       "      <td>1.500000</td>\n",
       "      <td>4.351163</td>\n",
       "    </tr>\n",
       "    <tr>\n",
       "      <th>1</th>\n",
       "      <td>1483.785634</td>\n",
       "      <td>2.612690</td>\n",
       "      <td>2.247237</td>\n",
       "      <td>4.111252</td>\n",
       "    </tr>\n",
       "    <tr>\n",
       "      <th>2</th>\n",
       "      <td>2166.375642</td>\n",
       "      <td>3.043770</td>\n",
       "      <td>2.319812</td>\n",
       "      <td>4.126435</td>\n",
       "    </tr>\n",
       "    <tr>\n",
       "      <th>3</th>\n",
       "      <td>2744.725621</td>\n",
       "      <td>3.236697</td>\n",
       "      <td>2.133849</td>\n",
       "      <td>4.158135</td>\n",
       "    </tr>\n",
       "    <tr>\n",
       "      <th>4</th>\n",
       "      <td>2514.500000</td>\n",
       "      <td>3.579767</td>\n",
       "      <td>1.709091</td>\n",
       "      <td>4.189242</td>\n",
       "    </tr>\n",
       "    <tr>\n",
       "      <th>5</th>\n",
       "      <td>4230.556667</td>\n",
       "      <td>7.994215</td>\n",
       "      <td>1.250000</td>\n",
       "      <td>4.375296</td>\n",
       "    </tr>\n",
       "    <tr>\n",
       "      <th>6</th>\n",
       "      <td>2049.667500</td>\n",
       "      <td>1.699450</td>\n",
       "      <td>2.214286</td>\n",
       "      <td>3.994886</td>\n",
       "    </tr>\n",
       "    <tr>\n",
       "      <th rowspan=\"9\" valign=\"top\">house</th>\n",
       "      <th>1</th>\n",
       "      <td>1522.517368</td>\n",
       "      <td>2.840277</td>\n",
       "      <td>2.116572</td>\n",
       "      <td>4.101254</td>\n",
       "    </tr>\n",
       "    <tr>\n",
       "      <th>2</th>\n",
       "      <td>2168.294234</td>\n",
       "      <td>3.082328</td>\n",
       "      <td>2.219871</td>\n",
       "      <td>4.127080</td>\n",
       "    </tr>\n",
       "    <tr>\n",
       "      <th>3</th>\n",
       "      <td>2528.672619</td>\n",
       "      <td>5.412985</td>\n",
       "      <td>1.797065</td>\n",
       "      <td>4.225761</td>\n",
       "    </tr>\n",
       "    <tr>\n",
       "      <th>4</th>\n",
       "      <td>3185.444444</td>\n",
       "      <td>5.191335</td>\n",
       "      <td>1.760950</td>\n",
       "      <td>4.248800</td>\n",
       "    </tr>\n",
       "    <tr>\n",
       "      <th>5</th>\n",
       "      <td>3933.441176</td>\n",
       "      <td>6.029288</td>\n",
       "      <td>1.711169</td>\n",
       "      <td>4.266693</td>\n",
       "    </tr>\n",
       "    <tr>\n",
       "      <th>6</th>\n",
       "      <td>5465.555000</td>\n",
       "      <td>2.385336</td>\n",
       "      <td>2.587393</td>\n",
       "      <td>4.133240</td>\n",
       "    </tr>\n",
       "    <tr>\n",
       "      <th>7</th>\n",
       "      <td>6775.000000</td>\n",
       "      <td>2.519597</td>\n",
       "      <td>1.666667</td>\n",
       "      <td>4.222488</td>\n",
       "    </tr>\n",
       "    <tr>\n",
       "      <th>8</th>\n",
       "      <td>5133.335000</td>\n",
       "      <td>3.458595</td>\n",
       "      <td>1.833333</td>\n",
       "      <td>4.236953</td>\n",
       "    </tr>\n",
       "    <tr>\n",
       "      <th>9</th>\n",
       "      <td>7500.000000</td>\n",
       "      <td>5.407702</td>\n",
       "      <td>1.333333</td>\n",
       "      <td>4.365854</td>\n",
       "    </tr>\n",
       "  </tbody>\n",
       "</table>\n",
       "</div>"
      ],
      "text/plain": [
       "                      Monthly rent price(€)  dist_bridge  price level  \\\n",
       "Type      Bedroom(s)                                                    \n",
       "apartment 0                     1450.000000     3.413596     1.500000   \n",
       "          1                     1483.785634     2.612690     2.247237   \n",
       "          2                     2166.375642     3.043770     2.319812   \n",
       "          3                     2744.725621     3.236697     2.133849   \n",
       "          4                     2514.500000     3.579767     1.709091   \n",
       "          5                     4230.556667     7.994215     1.250000   \n",
       "          6                     2049.667500     1.699450     2.214286   \n",
       "house     1                     1522.517368     2.840277     2.116572   \n",
       "          2                     2168.294234     3.082328     2.219871   \n",
       "          3                     2528.672619     5.412985     1.797065   \n",
       "          4                     3185.444444     5.191335     1.760950   \n",
       "          5                     3933.441176     6.029288     1.711169   \n",
       "          6                     5465.555000     2.385336     2.587393   \n",
       "          7                     6775.000000     2.519597     1.666667   \n",
       "          8                     5133.335000     3.458595     1.833333   \n",
       "          9                     7500.000000     5.407702     1.333333   \n",
       "\n",
       "                        rating  \n",
       "Type      Bedroom(s)            \n",
       "apartment 0           4.351163  \n",
       "          1           4.111252  \n",
       "          2           4.126435  \n",
       "          3           4.158135  \n",
       "          4           4.189242  \n",
       "          5           4.375296  \n",
       "          6           3.994886  \n",
       "house     1           4.101254  \n",
       "          2           4.127080  \n",
       "          3           4.225761  \n",
       "          4           4.248800  \n",
       "          5           4.266693  \n",
       "          6           4.133240  \n",
       "          7           4.222488  \n",
       "          8           4.236953  \n",
       "          9           4.365854  "
      ]
     },
     "execution_count": 272,
     "metadata": {},
     "output_type": "execute_result"
    }
   ],
   "source": [
    "pd.pivot_table(rent_df, index=[\"Type\",'Bedroom(s)'] , values=[\"Monthly rent price(€)\",'price level', 'rating', 'dist_bridge'], aggfunc=np.mean)"
   ]
  },
  {
   "cell_type": "markdown",
   "metadata": {},
   "source": [
    "When it comes to the total number of bedrooms and bathrooms vs rental price of a property, there is a very clear upwards sloping trend relationship between the two! However, that is also not the only factor as there are large  properties going for as little as €1000 a month and as high as €9100."
   ]
  },
  {
   "cell_type": "code",
   "execution_count": 89,
   "metadata": {},
   "outputs": [
    {
     "data": {
      "image/png": "[encoded data removed]",
      "text/plain": [
       "<Figure size 432x288 with 1 Axes>"
      ]
     },
     "metadata": {
      "needs_background": "light"
     },
     "output_type": "display_data"
    }
   ],
   "source": [
    "plt.figure()\n",
    "plt.scatter(rent_df['Bedroom(s)'] + rent_df['Bathroom(s)'] ,rent_df['Monthly rent price(€)'], s=20,\n",
    "edgecolor=\"black\",c=\"blue\")\n",
    "plt.xlabel(\"Total number of Bedroom(s) and bathroom(s)\")\n",
    "plt.ylabel('Monthly rent price(€)')\n",
    "plt.title(\"Total number of Bedrooms and bathrooms vs. Rent Price\")\n",
    "plt.show()"
   ]
  },
  {
   "cell_type": "markdown",
   "metadata": {},
   "source": [
    "A pivot table of Monthly rent price(€),\tdist_bridge, price level and rating grouped by postcode.\n",
    "The top 5 most expensive neighbourhoods are 4,14,2,16 and 18.\n"
   ]
  },
  {
   "cell_type": "code",
   "execution_count": 277,
   "metadata": {},
   "outputs": [
    {
     "data": {
      "text/html": [
       "<div>\n",
       "<style scoped>\n",
       "    .dataframe tbody tr th:only-of-type {\n",
       "        vertical-align: middle;\n",
       "    }\n",
       "\n",
       "    .dataframe tbody tr th {\n",
       "        vertical-align: top;\n",
       "    }\n",
       "\n",
       "    .dataframe thead th {\n",
       "        text-align: right;\n",
       "    }\n",
       "</style>\n",
       "<table border=\"1\" class=\"dataframe\">\n",
       "  <thead>\n",
       "    <tr style=\"text-align: right;\">\n",
       "      <th></th>\n",
       "      <th>Monthly rent price(€)</th>\n",
       "      <th>dist_bridge</th>\n",
       "      <th>price level</th>\n",
       "      <th>rating</th>\n",
       "    </tr>\n",
       "    <tr>\n",
       "      <th>Post code</th>\n",
       "      <th></th>\n",
       "      <th></th>\n",
       "      <th></th>\n",
       "      <th></th>\n",
       "    </tr>\n",
       "  </thead>\n",
       "  <tbody>\n",
       "    <tr>\n",
       "      <th>4</th>\n",
       "      <td>2484.891433</td>\n",
       "      <td>2.597521</td>\n",
       "      <td>2.446882</td>\n",
       "      <td>4.232912</td>\n",
       "    </tr>\n",
       "    <tr>\n",
       "      <th>14</th>\n",
       "      <td>2442.238052</td>\n",
       "      <td>5.974664</td>\n",
       "      <td>1.647851</td>\n",
       "      <td>4.254518</td>\n",
       "    </tr>\n",
       "    <tr>\n",
       "      <th>2</th>\n",
       "      <td>2406.182007</td>\n",
       "      <td>1.072027</td>\n",
       "      <td>2.900507</td>\n",
       "      <td>4.032433</td>\n",
       "    </tr>\n",
       "    <tr>\n",
       "      <th>16</th>\n",
       "      <td>2337.800000</td>\n",
       "      <td>7.987341</td>\n",
       "      <td>1.567778</td>\n",
       "      <td>4.341722</td>\n",
       "    </tr>\n",
       "    <tr>\n",
       "      <th>18</th>\n",
       "      <td>2276.819375</td>\n",
       "      <td>9.857937</td>\n",
       "      <td>2.021197</td>\n",
       "      <td>4.357796</td>\n",
       "    </tr>\n",
       "    <tr>\n",
       "      <th>6w</th>\n",
       "      <td>2205.782609</td>\n",
       "      <td>4.470570</td>\n",
       "      <td>1.609321</td>\n",
       "      <td>4.309084</td>\n",
       "    </tr>\n",
       "    <tr>\n",
       "      <th>12</th>\n",
       "      <td>2170.977241</td>\n",
       "      <td>4.806211</td>\n",
       "      <td>1.326437</td>\n",
       "      <td>4.320489</td>\n",
       "    </tr>\n",
       "    <tr>\n",
       "      <th>13</th>\n",
       "      <td>2133.958333</td>\n",
       "      <td>10.317283</td>\n",
       "      <td>1.719593</td>\n",
       "      <td>4.341406</td>\n",
       "    </tr>\n",
       "    <tr>\n",
       "      <th>6</th>\n",
       "      <td>2084.465774</td>\n",
       "      <td>3.063919</td>\n",
       "      <td>1.974392</td>\n",
       "      <td>4.279724</td>\n",
       "    </tr>\n",
       "    <tr>\n",
       "      <th>15</th>\n",
       "      <td>2051.433333</td>\n",
       "      <td>9.486838</td>\n",
       "      <td>1.662323</td>\n",
       "      <td>4.235303</td>\n",
       "    </tr>\n",
       "    <tr>\n",
       "      <th>1</th>\n",
       "      <td>2023.193042</td>\n",
       "      <td>1.045076</td>\n",
       "      <td>2.261701</td>\n",
       "      <td>3.949897</td>\n",
       "    </tr>\n",
       "    <tr>\n",
       "      <th>3</th>\n",
       "      <td>1955.540778</td>\n",
       "      <td>2.803494</td>\n",
       "      <td>1.841618</td>\n",
       "      <td>4.049030</td>\n",
       "    </tr>\n",
       "    <tr>\n",
       "      <th>8</th>\n",
       "      <td>1847.363171</td>\n",
       "      <td>1.925897</td>\n",
       "      <td>2.320267</td>\n",
       "      <td>4.039028</td>\n",
       "    </tr>\n",
       "    <tr>\n",
       "      <th>9</th>\n",
       "      <td>1842.729865</td>\n",
       "      <td>4.361416</td>\n",
       "      <td>1.532314</td>\n",
       "      <td>4.158221</td>\n",
       "    </tr>\n",
       "    <tr>\n",
       "      <th>10</th>\n",
       "      <td>1833.333333</td>\n",
       "      <td>6.538918</td>\n",
       "      <td>1.472222</td>\n",
       "      <td>4.253014</td>\n",
       "    </tr>\n",
       "    <tr>\n",
       "      <th>5</th>\n",
       "      <td>1826.842105</td>\n",
       "      <td>5.854919</td>\n",
       "      <td>1.546491</td>\n",
       "      <td>4.224728</td>\n",
       "    </tr>\n",
       "    <tr>\n",
       "      <th>22</th>\n",
       "      <td>1734.981667</td>\n",
       "      <td>9.837607</td>\n",
       "      <td>1.546296</td>\n",
       "      <td>4.267390</td>\n",
       "    </tr>\n",
       "    <tr>\n",
       "      <th>7</th>\n",
       "      <td>1684.825856</td>\n",
       "      <td>1.892905</td>\n",
       "      <td>2.097405</td>\n",
       "      <td>4.016851</td>\n",
       "    </tr>\n",
       "    <tr>\n",
       "      <th>24</th>\n",
       "      <td>1642.575909</td>\n",
       "      <td>10.517422</td>\n",
       "      <td>1.712879</td>\n",
       "      <td>4.278470</td>\n",
       "    </tr>\n",
       "    <tr>\n",
       "      <th>20</th>\n",
       "      <td>1640.416250</td>\n",
       "      <td>6.780860</td>\n",
       "      <td>1.357116</td>\n",
       "      <td>4.293925</td>\n",
       "    </tr>\n",
       "    <tr>\n",
       "      <th>11</th>\n",
       "      <td>1504.494483</td>\n",
       "      <td>5.131226</td>\n",
       "      <td>1.372989</td>\n",
       "      <td>4.308782</td>\n",
       "    </tr>\n",
       "    <tr>\n",
       "      <th>17</th>\n",
       "      <td>1325.000000</td>\n",
       "      <td>7.323090</td>\n",
       "      <td>1.468254</td>\n",
       "      <td>4.167870</td>\n",
       "    </tr>\n",
       "  </tbody>\n",
       "</table>\n",
       "</div>"
      ],
      "text/plain": [
       "           Monthly rent price(€)  dist_bridge  price level    rating\n",
       "Post code                                                           \n",
       "4                    2484.891433     2.597521     2.446882  4.232912\n",
       "14                   2442.238052     5.974664     1.647851  4.254518\n",
       "2                    2406.182007     1.072027     2.900507  4.032433\n",
       "16                   2337.800000     7.987341     1.567778  4.341722\n",
       "18                   2276.819375     9.857937     2.021197  4.357796\n",
       "6w                   2205.782609     4.470570     1.609321  4.309084\n",
       "12                   2170.977241     4.806211     1.326437  4.320489\n",
       "13                   2133.958333    10.317283     1.719593  4.341406\n",
       "6                    2084.465774     3.063919     1.974392  4.279724\n",
       "15                   2051.433333     9.486838     1.662323  4.235303\n",
       "1                    2023.193042     1.045076     2.261701  3.949897\n",
       "3                    1955.540778     2.803494     1.841618  4.049030\n",
       "8                    1847.363171     1.925897     2.320267  4.039028\n",
       "9                    1842.729865     4.361416     1.532314  4.158221\n",
       "10                   1833.333333     6.538918     1.472222  4.253014\n",
       "5                    1826.842105     5.854919     1.546491  4.224728\n",
       "22                   1734.981667     9.837607     1.546296  4.267390\n",
       "7                    1684.825856     1.892905     2.097405  4.016851\n",
       "24                   1642.575909    10.517422     1.712879  4.278470\n",
       "20                   1640.416250     6.780860     1.357116  4.293925\n",
       "11                   1504.494483     5.131226     1.372989  4.308782\n",
       "17                   1325.000000     7.323090     1.468254  4.167870"
      ]
     },
     "execution_count": 277,
     "metadata": {},
     "output_type": "execute_result"
    }
   ],
   "source": [
    "pd.pivot_table(rent_df, index=[\"Post code\"] , values=[\"Monthly rent price(€)\",'price level', 'rating', 'dist_bridge'], aggfunc=np.mean).sort_values(by=\"Monthly rent price(€)\", ascending=False)\n"
   ]
  },
  {
   "cell_type": "markdown",
   "metadata": {},
   "source": [
    "Furnished properties are generally smaller than furnished ones. Therefore, rental prices for furnished properties are lower. Also, unfurnished properties tend to be located further away from the city centre. However, the sample sizes differ widely so we have to take our conclusions with a pinch of salt."
   ]
  },
  {
   "cell_type": "code",
   "execution_count": 281,
   "metadata": {},
   "outputs": [
    {
     "data": {
      "text/html": [
       "<div>\n",
       "<style scoped>\n",
       "    .dataframe tbody tr th:only-of-type {\n",
       "        vertical-align: middle;\n",
       "    }\n",
       "\n",
       "    .dataframe tbody tr th {\n",
       "        vertical-align: top;\n",
       "    }\n",
       "\n",
       "    .dataframe thead th {\n",
       "        text-align: right;\n",
       "    }\n",
       "</style>\n",
       "<table border=\"1\" class=\"dataframe\">\n",
       "  <thead>\n",
       "    <tr style=\"text-align: right;\">\n",
       "      <th></th>\n",
       "      <th>Bathroom(s)</th>\n",
       "      <th>Bedroom(s)</th>\n",
       "      <th>Monthly rent price(€)</th>\n",
       "      <th>dist_bridge</th>\n",
       "    </tr>\n",
       "    <tr>\n",
       "      <th>Furnished Status</th>\n",
       "      <th></th>\n",
       "      <th></th>\n",
       "      <th></th>\n",
       "      <th></th>\n",
       "    </tr>\n",
       "  </thead>\n",
       "  <tbody>\n",
       "    <tr>\n",
       "      <th>0</th>\n",
       "      <td>2.607595</td>\n",
       "      <td>3.405063</td>\n",
       "      <td>3265.873418</td>\n",
       "      <td>5.308143</td>\n",
       "    </tr>\n",
       "    <tr>\n",
       "      <th>1</th>\n",
       "      <td>1.496425</td>\n",
       "      <td>1.982125</td>\n",
       "      <td>2079.627007</td>\n",
       "      <td>3.215332</td>\n",
       "    </tr>\n",
       "  </tbody>\n",
       "</table>\n",
       "</div>"
      ],
      "text/plain": [
       "                  Bathroom(s)  Bedroom(s)  Monthly rent price(€)  dist_bridge\n",
       "Furnished Status                                                             \n",
       "0                    2.607595    3.405063            3265.873418     5.308143\n",
       "1                    1.496425    1.982125            2079.627007     3.215332"
      ]
     },
     "execution_count": 281,
     "metadata": {},
     "output_type": "execute_result"
    }
   ],
   "source": [
    "pd.pivot_table(rent_df, index=[\"Furnished Status\",] , values=[\"Monthly rent price(€)\", 'dist_bridge','Bathroom(s)','Bedroom(s)'], aggfunc=np.mean).sort_values(by=\"Monthly rent price(€)\", ascending=False)\n"
   ]
  },
  {
   "cell_type": "code",
   "execution_count": 66,
   "metadata": {},
   "outputs": [
    {
     "data": {
      "image/png": "[encoded data removed]",
      "text/plain": [
       "<Figure size 432x288 with 1 Axes>"
      ]
     },
     "metadata": {
      "needs_background": "light"
     },
     "output_type": "display_data"
    }
   ],
   "source": [
    "plt.figure()\n",
    "plt.scatter(rent_df['Furnished Status'],rent_df['Monthly rent price(€)'], s=20,\n",
    "edgecolor=\"black\",c=\"red\", label=\"furnished status\")\n",
    "plt.xlabel('Furnished Status')\n",
    "plt.ylabel(\"Monthly rent price(€)\")\n",
    "plt.title(\"Furnished Status vs. Property Price\")\n",
    "plt.show()"
   ]
  },
  {
   "cell_type": "markdown",
   "metadata": {},
   "source": [
    "The number of furnished properties far outnumber unfurnished ones. 3.9 % of properties in the Dublin rental market are unfurnished."
   ]
  },
  {
   "cell_type": "code",
   "execution_count": 290,
   "metadata": {},
   "outputs": [
    {
     "data": {
      "text/html": [
       "<div>\n",
       "<style scoped>\n",
       "    .dataframe tbody tr th:only-of-type {\n",
       "        vertical-align: middle;\n",
       "    }\n",
       "\n",
       "    .dataframe tbody tr th {\n",
       "        vertical-align: top;\n",
       "    }\n",
       "\n",
       "    .dataframe thead th {\n",
       "        text-align: right;\n",
       "    }\n",
       "</style>\n",
       "<table border=\"1\" class=\"dataframe\">\n",
       "  <thead>\n",
       "    <tr style=\"text-align: right;\">\n",
       "      <th></th>\n",
       "      <th>Type</th>\n",
       "    </tr>\n",
       "    <tr>\n",
       "      <th>Furnished Status</th>\n",
       "      <th></th>\n",
       "    </tr>\n",
       "  </thead>\n",
       "  <tbody>\n",
       "    <tr>\n",
       "      <th>0</th>\n",
       "      <td>79</td>\n",
       "    </tr>\n",
       "    <tr>\n",
       "      <th>1</th>\n",
       "      <td>1958</td>\n",
       "    </tr>\n",
       "  </tbody>\n",
       "</table>\n",
       "</div>"
      ],
      "text/plain": [
       "                  Type\n",
       "Furnished Status      \n",
       "0                   79\n",
       "1                 1958"
      ]
     },
     "execution_count": 290,
     "metadata": {},
     "output_type": "execute_result"
    }
   ],
   "source": [
    "pd.pivot_table(rent_df, index=[\"Furnished Status\",] , values=[\"Type\"], aggfunc= 'count')"
   ]
  },
  {
   "cell_type": "code",
   "execution_count": 299,
   "metadata": {},
   "outputs": [
    {
     "data": {
      "text/html": [
       "<div>\n",
       "<style scoped>\n",
       "    .dataframe tbody tr th:only-of-type {\n",
       "        vertical-align: middle;\n",
       "    }\n",
       "\n",
       "    .dataframe tbody tr th {\n",
       "        vertical-align: top;\n",
       "    }\n",
       "\n",
       "    .dataframe thead th {\n",
       "        text-align: right;\n",
       "    }\n",
       "</style>\n",
       "<table border=\"1\" class=\"dataframe\">\n",
       "  <thead>\n",
       "    <tr style=\"text-align: right;\">\n",
       "      <th>Type</th>\n",
       "      <th>apartment</th>\n",
       "      <th>house</th>\n",
       "    </tr>\n",
       "    <tr>\n",
       "      <th>Post code</th>\n",
       "      <th></th>\n",
       "      <th></th>\n",
       "    </tr>\n",
       "  </thead>\n",
       "  <tbody>\n",
       "    <tr>\n",
       "      <th>1</th>\n",
       "      <td>1976.955845</td>\n",
       "      <td>2505.380952</td>\n",
       "    </tr>\n",
       "    <tr>\n",
       "      <th>10</th>\n",
       "      <td>1833.333333</td>\n",
       "      <td>NaN</td>\n",
       "    </tr>\n",
       "    <tr>\n",
       "      <th>11</th>\n",
       "      <td>1157.767000</td>\n",
       "      <td>2275.000000</td>\n",
       "    </tr>\n",
       "    <tr>\n",
       "      <th>12</th>\n",
       "      <td>1798.030909</td>\n",
       "      <td>2398.888889</td>\n",
       "    </tr>\n",
       "    <tr>\n",
       "      <th>13</th>\n",
       "      <td>1950.333333</td>\n",
       "      <td>2317.583333</td>\n",
       "    </tr>\n",
       "    <tr>\n",
       "      <th>14</th>\n",
       "      <td>2211.070851</td>\n",
       "      <td>2804.400000</td>\n",
       "    </tr>\n",
       "    <tr>\n",
       "      <th>15</th>\n",
       "      <td>1830.892857</td>\n",
       "      <td>2244.406250</td>\n",
       "    </tr>\n",
       "    <tr>\n",
       "      <th>16</th>\n",
       "      <td>1873.857143</td>\n",
       "      <td>2743.750000</td>\n",
       "    </tr>\n",
       "    <tr>\n",
       "      <th>17</th>\n",
       "      <td>1112.500000</td>\n",
       "      <td>1750.000000</td>\n",
       "    </tr>\n",
       "    <tr>\n",
       "      <th>18</th>\n",
       "      <td>2046.917808</td>\n",
       "      <td>3006.506957</td>\n",
       "    </tr>\n",
       "    <tr>\n",
       "      <th>2</th>\n",
       "      <td>2327.829181</td>\n",
       "      <td>3363.449130</td>\n",
       "    </tr>\n",
       "    <tr>\n",
       "      <th>20</th>\n",
       "      <td>1228.888333</td>\n",
       "      <td>2875.000000</td>\n",
       "    </tr>\n",
       "    <tr>\n",
       "      <th>22</th>\n",
       "      <td>1457.967000</td>\n",
       "      <td>2081.250000</td>\n",
       "    </tr>\n",
       "    <tr>\n",
       "      <th>24</th>\n",
       "      <td>1269.722500</td>\n",
       "      <td>2090.000000</td>\n",
       "    </tr>\n",
       "    <tr>\n",
       "      <th>3</th>\n",
       "      <td>1805.420820</td>\n",
       "      <td>2271.310345</td>\n",
       "    </tr>\n",
       "    <tr>\n",
       "      <th>4</th>\n",
       "      <td>2165.980841</td>\n",
       "      <td>3374.691358</td>\n",
       "    </tr>\n",
       "    <tr>\n",
       "      <th>5</th>\n",
       "      <td>1468.888889</td>\n",
       "      <td>2149.000000</td>\n",
       "    </tr>\n",
       "    <tr>\n",
       "      <th>6</th>\n",
       "      <td>1771.999946</td>\n",
       "      <td>3154.950556</td>\n",
       "    </tr>\n",
       "    <tr>\n",
       "      <th>6w</th>\n",
       "      <td>1703.600000</td>\n",
       "      <td>2592.076923</td>\n",
       "    </tr>\n",
       "    <tr>\n",
       "      <th>7</th>\n",
       "      <td>1547.797738</td>\n",
       "      <td>2111.135556</td>\n",
       "    </tr>\n",
       "    <tr>\n",
       "      <th>8</th>\n",
       "      <td>1743.183168</td>\n",
       "      <td>2325.644091</td>\n",
       "    </tr>\n",
       "    <tr>\n",
       "      <th>9</th>\n",
       "      <td>1602.140200</td>\n",
       "      <td>2343.958333</td>\n",
       "    </tr>\n",
       "  </tbody>\n",
       "</table>\n",
       "</div>"
      ],
      "text/plain": [
       "Type         apartment        house\n",
       "Post code                          \n",
       "1          1976.955845  2505.380952\n",
       "10         1833.333333          NaN\n",
       "11         1157.767000  2275.000000\n",
       "12         1798.030909  2398.888889\n",
       "13         1950.333333  2317.583333\n",
       "14         2211.070851  2804.400000\n",
       "15         1830.892857  2244.406250\n",
       "16         1873.857143  2743.750000\n",
       "17         1112.500000  1750.000000\n",
       "18         2046.917808  3006.506957\n",
       "2          2327.829181  3363.449130\n",
       "20         1228.888333  2875.000000\n",
       "22         1457.967000  2081.250000\n",
       "24         1269.722500  2090.000000\n",
       "3          1805.420820  2271.310345\n",
       "4          2165.980841  3374.691358\n",
       "5          1468.888889  2149.000000\n",
       "6          1771.999946  3154.950556\n",
       "6w         1703.600000  2592.076923\n",
       "7          1547.797738  2111.135556\n",
       "8          1743.183168  2325.644091\n",
       "9          1602.140200  2343.958333"
      ]
     },
     "execution_count": 299,
     "metadata": {},
     "output_type": "execute_result"
    }
   ],
   "source": [
    "pd.pivot_table(rent_df, index= \"Post code\" ,columns = \"Type\", values=\"Monthly rent price(€)\")"
   ]
  },
  {
   "cell_type": "markdown",
   "metadata": {},
   "source": [
    "I wanted to know if they were are any major differences between properties where their rental prices were listed weekly or monthly. The average sample mean for properties listed per month is higher than if they were listed weekly, which was surprising as I thought it would be the opposite!\n",
    "\n",
    "Although down below a two-sample t=test  indicates that their differences are not significant(5 % level of confidence).\n",
    "\n",
    "The mean price level, rating and dist_bridge for weekly and monthly are also not significantly  different."
   ]
  },
  {
   "cell_type": "code",
   "execution_count": 301,
   "metadata": {},
   "outputs": [],
   "source": [
    "week = rent_df[rent_df['Week YN'] == 1]\n",
    "month =  rent_df[rent_df['Month YN'] == 1]\n",
    "\n",
    "week.reset_index(drop=True, inplace = True)\n",
    "month.reset_index(drop=True, inplace = True)"
   ]
  },
  {
   "cell_type": "code",
   "execution_count": 311,
   "metadata": {},
   "outputs": [
    {
     "data": {
      "image/png": "[encoded data removed]",
      "text/plain": [
       "<Figure size 432x288 with 1 Axes>"
      ]
     },
     "metadata": {
      "needs_background": "light"
     },
     "output_type": "display_data"
    },
    {
     "name": "stdout",
     "output_type": "stream",
     "text": [
      "p value for dist_bridge: 0.012137162553611084 and the tstatistic: -2.510379455147933\n",
      "p value for price level: 0.6346647154070946 and the tstatistic: 0.47524309668792597\n",
      "p value for rating: 0.12558873593199182 and the tstatistic: -1.5323613062829835\n",
      "p value for Monthly rent price(€): 0.41437917934339197 and the tstatistic: -0.8163786076329914\n"
     ]
    }
   ],
   "source": [
    "sns.distplot(week[\"Monthly rent price(€)\"],label=\"Weekly\")\n",
    "sns.distplot(month['Monthly rent price(€)'],label=\"Monthly\")\n",
    "plt.legend()\n",
    "plt.show()\n",
    "columns=['dist_bridge','price level','rating','Monthly rent price(€)']\n",
    "for col in columns:\n",
    "    t_stat, p_val = stats.ttest_ind(week[col], month[col])\n",
    "    print(\"p value for %s: \" % (col) +str(p_val)+\" and the tstatistic: \" + str(t_stat))"
   ]
  },
  {
   "cell_type": "markdown",
   "metadata": {},
   "source": [
    "# Identifying And Visualising Rental Market Trends In Dublin:\n",
    "\n",
    "As I have the longitude and latitude of each property, we can visualize how  rental prices are distributed geographically. This may enable us to spot any trends that might be relevant for my analysis. I will do this with a Google Map API called gmaps.\n",
    "\n",
    "As expected, most of the higher rent prices are concentrated around the city center, specifically around 0'Connell's bridge and  the Docklands. Higher rent prices are  also concentrated around Ballsbridge and Rathmines, where there is a concentration of luxury houses. The further out neighbourhoods of northside Dublin such as  Ballymun, Artane and  Finglas appear to have lower rental prices represented in green.\n",
    "\n",
    "Location seems to have a strong effect on rental prices, but it is definitely not the sole factor.\n",
    "\n"
   ]
  },
  {
   "cell_type": "code",
   "execution_count": null,
   "metadata": {},
   "outputs": [],
   "source": [
    "api_key = os.environ[\"APIKEY\"]\n",
    "gmaps.configure(api_key)\n",
    "\n",
    "fig = gmaps.figure()\n",
    "heatmap_layer = gmaps.heatmap_layer(\n",
    "  rent_df[['latitude','Longitude']],\n",
    "  weights=rent_df['Monthly rent price(€)'],\n",
    "  max_intensity = 1000,\n",
    "  point_radius=6.0\n",
    ")\n",
    "\n",
    "fig.add_layer(heatmap_layer)\n",
    "fig"
   ]
  },
  {
   "cell_type": "markdown",
   "metadata": {},
   "source": [
    "### Rental Price Heatmap Of Dublin\n",
    "<img src=\"../data/dublin_heat_map.png\" alt=\"drawing\" width=\"600\"/>\n"
   ]
  },
  {
   "cell_type": "markdown",
   "metadata": {},
   "source": [
    "# Wordcloud of Rental Property descriptions\n",
    "\n",
    "A 'word cloud' is a visual representation of word frequency. The more commonly the term appears, within the text being analysed, the larger the word appears in the image generated. It comes as no surprise that positive descriptors such as bright, private,sought after, beautiful, modern and spacious are commonplace. \"Available now\" appeared in most descriptions indicating that the property was available to view immediately. In addition, Dublin and June are common as, of course, this is an analysis of Dublin rental prices viewed in June 2020."
   ]
  },
  {
   "cell_type": "code",
   "execution_count": null,
   "metadata": {},
   "outputs": [],
   "source": [
    "text = \"\"\n",
    "for index,values in  rent_df['Property desc'].items():\n",
    "    text += values.strip()\n",
    "text = text.replace(\"\\n\",\"\")\n",
    "mask = np.array(Image.open('..\\data\\wc.png'))\n",
    "stopwords = set(STOPWORDS)\n",
    "wc = WordCloud(background_color=\"White\",stopwords=stopwords).generate(text)\n",
    "plt.axis(\"off\")\n",
    "plt.imshow(wc, interpolation=\"bilinear\")\n",
    "plt.show()"
   ]
  },
  {
   "cell_type": "markdown",
   "metadata": {},
   "source": [
    "<img src=\"..\\data\\WordCloud.png\" alt=\"drawing\" width=\"400\"/>"
   ]
  },
  {
   "cell_type": "code",
   "execution_count": 74,
   "metadata": {},
   "outputs": [],
   "source": [
    "rent_df.to_hdf(\"../data/after_eda.h5\", key='df', mode='w')"
   ]
  }
 ],
 "metadata": {
  "kernelspec": {
   "display_name": "Python 3",
   "language": "python",
   "name": "python3"
  },
  "language_info": {
   "codemirror_mode": {
    "name": "ipython",
    "version": 3
   },
   "file_extension": ".py",
   "mimetype": "text/x-python",
   "name": "python",
   "nbconvert_exporter": "python",
   "pygments_lexer": "ipython3",
   "version": "3.7.6"
  }
 },
 "nbformat": 4,
 "nbformat_minor": 2
}
